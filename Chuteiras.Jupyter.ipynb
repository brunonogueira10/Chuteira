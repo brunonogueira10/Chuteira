{
 "cells": [
  {
   "cell_type": "code",
   "execution_count": 1,
   "id": "6370fb5a",
   "metadata": {},
   "outputs": [],
   "source": [
    "import psycopg2"
   ]
  },
  {
   "cell_type": "code",
   "execution_count": 2,
   "id": "0c6e62b6",
   "metadata": {},
   "outputs": [],
   "source": [
    "conn = psycopg2.connect(database=\"Chuteiras\",user=\"postgres\",password=\"4080\",host=\"localhost\",port=\"5432\")"
   ]
  },
  {
   "cell_type": "code",
   "execution_count": 3,
   "id": "181b3e74",
   "metadata": {},
   "outputs": [],
   "source": [
    "cur = conn.cursor()\n",
    "cur.execute(\"select * FROM Chuteiras\")"
   ]
  },
  {
   "cell_type": "code",
   "execution_count": 8,
   "id": "ec62164a",
   "metadata": {},
   "outputs": [
    {
     "name": "stdout",
     "output_type": "stream",
     "text": [
      "(1, 'Nike Mercurial Vapor', 'Nike')\n",
      "(2, 'Adidas Predator', 'Adidas')\n",
      "(3, 'Puma KING', 'Puma')\n",
      "(4, 'Puma Evospeed', 'Puma')\n"
     ]
    },
    {
     "data": {
      "text/plain": [
       "<function connection.close>"
      ]
     },
     "execution_count": 8,
     "metadata": {},
     "output_type": "execute_result"
    }
   ],
   "source": [
    " for row in cur:\n",
    "    print(row)\n",
    " cur.close()\n",
    " conn.close"
   ]
  },
  {
   "cell_type": "code",
   "execution_count": null,
   "id": "d9f521c8",
   "metadata": {},
   "outputs": [],
   "source": []
  }
 ],
 "metadata": {
  "kernelspec": {
   "display_name": "Python 3 (ipykernel)",
   "language": "python",
   "name": "python3"
  },
  "language_info": {
   "codemirror_mode": {
    "name": "ipython",
    "version": 3
   },
   "file_extension": ".py",
   "mimetype": "text/x-python",
   "name": "python",
   "nbconvert_exporter": "python",
   "pygments_lexer": "ipython3",
   "version": "3.10.9"
  }
 },
 "nbformat": 4,
 "nbformat_minor": 5
}
